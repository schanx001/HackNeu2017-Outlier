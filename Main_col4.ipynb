{
 "cells": [
  {
   "cell_type": "code",
   "execution_count": 8,
   "metadata": {
    "collapsed": false
   },
   "outputs": [],
   "source": [
    "import pandas as pd\n",
    "import numpy as np\n",
    "df = pd.read_csv(\"/home/schanx/Documents/NeuHack/HackNEU/Hack2017GradCS/shantanu/household_power_consumption.txt\", delimiter=\";\", usecols = ['Global_reactive_power'], low_memory=False)"
   ]
  },
  {
   "cell_type": "code",
   "execution_count": 9,
   "metadata": {
    "collapsed": false
   },
   "outputs": [],
   "source": [
    "df=df[df[\"Global_reactive_power\"] != \"?\"]\n",
    "df[\"Global_reactive_power\"].to_csv(\"/home/schanx/Documents/NeuHack/HackNEU/Hack2017GradCS/shantanu/g1.csv\")"
   ]
  },
  {
   "cell_type": "code",
   "execution_count": 10,
   "metadata": {
    "collapsed": false
   },
   "outputs": [],
   "source": [
    "x = df['Global_reactive_power'].astype(float)"
   ]
  },
  {
   "cell_type": "code",
   "execution_count": 5,
   "metadata": {
    "collapsed": false
   },
   "outputs": [
    {
     "data": {
      "text/plain": [
       "numpy.float64"
      ]
     },
     "execution_count": 5,
     "metadata": {},
     "output_type": "execute_result"
    }
   ],
   "source": [
    "type(x[0])"
   ]
  },
  {
   "cell_type": "code",
   "execution_count": 11,
   "metadata": {
    "collapsed": true
   },
   "outputs": [],
   "source": [
    "x = x.mean()"
   ]
  },
  {
   "cell_type": "code",
   "execution_count": 12,
   "metadata": {
    "collapsed": false
   },
   "outputs": [
    {
     "data": {
      "text/plain": [
       "0.12371447630385488"
      ]
     },
     "execution_count": 12,
     "metadata": {},
     "output_type": "execute_result"
    }
   ],
   "source": [
    "x"
   ]
  },
  {
   "cell_type": "code",
   "execution_count": 13,
   "metadata": {
    "collapsed": false
   },
   "outputs": [
    {
     "name": "stdout",
     "output_type": "stream",
     "text": [
      "2049280\n"
     ]
    },
    {
     "data": {
      "image/png": "[encoded data removed]",
      "text/plain": [
       "<matplotlib.figure.Figure at 0x7f1ba09aab38>"
      ]
     },
     "metadata": {},
     "output_type": "display_data"
    }
   ],
   "source": [
    "import numpy as np\n",
    "import matplotlib.pyplot as plt\n",
    "import pandas as pd\n",
    "import csv\n",
    "plt.rcParams['figure.figsize'] = (10, 8)\n",
    "\n",
    "# intial parameters\n",
    "# g for column 3\n",
    "# g1 for column 4\n",
    "\n",
    "\n",
    "with open(\"/home/schanx/Documents/NeuHack/HackNEU/Hack2017GradCS/shantanu/g1.csv\") as f:\n",
    "    col = ['a','b']\n",
    "    dta = pd.read_csv(f,names=col)\n",
    "    \n",
    "    #dta.columns = ['a', 'b']\n",
    "print(len(dta['b']))\n",
    "\n",
    "n_iter = len(dta['b'])\n",
    "#n_iter = 50\n",
    "\n",
    "\n",
    "\n",
    "sz = (n_iter,) # size of array\n",
    "#x = -0.37727 # truth value (typo in example at top of p. 13 calls this z)\n",
    "x = 0.12371447630385488\n",
    "#z = np.random.normal(x,0.1,size=sz) # observations (normal about x, sigma=0.1)\n",
    "z = dta['b']\n",
    "Q = 0.5 # process variance 1e-5 2e-3 1e-1\n",
    "\n",
    "# allocate space for arrays\n",
    "xhat=np.zeros(sz)      # a posteri estimate of x\n",
    "P=np.zeros(sz)         # a posteri error estimate\n",
    "xhatminus=np.zeros(sz) # a priori estimate of x\n",
    "Pminus=np.zeros(sz)    # a priori error estimate\n",
    "K=np.zeros(sz)         # gain or blending factor\n",
    "\n",
    "R = 0.1**2 # estimate of measurement variance, change to see effect\n",
    "delta=np.zeros(sz)\n",
    "# intial guesses\n",
    "xhat[0] = 0.0\n",
    "P[0] = 1.0\n",
    "f = open(\"/home/schanx/Documents/NeuHack/HackNEU/Hack2017GradCS/shantanu/delta_col4.csv\",\"w+\")\n",
    "for k in range(1,n_iter):\n",
    "    # time update\n",
    "    xhatminus[k] = xhat[k-1]\n",
    "    Pminus[k] = P[k-1]+Q\n",
    "\n",
    "    # measurement update\n",
    "    K[k] = Pminus[k]/( Pminus[k]+R)\n",
    "\n",
    "    delta[k] = Pminus[k]-float(z[k])\n",
    "    xhat[k] = xhatminus[k]+K[k]*float(z[k])-xhatminus[k]\n",
    "    P[k] = (1-K[k])*Pminus[k]\n",
    "\n",
    "for item in delta:\n",
    "  f.write(\"%s\\n\" % item)\n",
    "\n",
    "dataset_delta = pd.read_csv(\"/home/schanx/Documents/NeuHack/HackNEU/Hack2017GradCS/shantanu/delta_col4.csv\")\n",
    "dataset_delta = dataset_delta.abs()\n",
    "threshold = dataset_delta.values.std() + dataset_delta.values.mean()\n",
    "dataset_threshold = dataset_delta[dataset_delta >= threshold]\n",
    "first = dataset_delta.plot(color='r')\n",
    "dataset_threshold.plot(ax=first)\n",
    "plt.legend([\"normal\",\"abnormal\"])\n",
    "plt.show()"
   ]
  },
  {
   "cell_type": "code",
   "execution_count": null,
   "metadata": {
    "collapsed": true
   },
   "outputs": [],
   "source": []
  }
 ],
 "metadata": {
  "anaconda-cloud": {},
  "kernelspec": {
   "display_name": "Python [default]",
   "language": "python",
   "name": "python3"
  },
  "language_info": {
   "codemirror_mode": {
    "name": "ipython",
    "version": 3
   },
   "file_extension": ".py",
   "mimetype": "text/x-python",
   "name": "python",
   "nbconvert_exporter": "python",
   "pygments_lexer": "ipython3",
   "version": "3.5.2"
  }
 },
 "nbformat": 4,
 "nbformat_minor": 1
}
